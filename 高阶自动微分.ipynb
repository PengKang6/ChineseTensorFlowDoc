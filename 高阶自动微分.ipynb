{
  "nbformat": 4,
  "nbformat_minor": 0,
  "metadata": {
    "colab": {
      "name": "高阶自动微分.ipynb",
      "provenance": [],
      "collapsed_sections": []
    },
    "kernelspec": {
      "name": "python3",
      "display_name": "Python 3"
    }
  },
  "cells": [
    {
      "cell_type": "markdown",
      "metadata": {
        "id": "ARLMtZvVdeF6",
        "colab_type": "text"
      },
      "source": [
        "**高级自动微分**"
      ]
    },
    {
      "cell_type": "markdown",
      "metadata": {
        "id": "Lly9INbAdixY",
        "colab_type": "text"
      },
      "source": [
        "自动微分指南包括了梯度计算的所有知识。本指南重点介绍tf.GradientTape 接口更深入，更罕见的功能。"
      ]
    },
    {
      "cell_type": "markdown",
      "metadata": {
        "id": "Q-gyf1ufdoRh",
        "colab_type": "text"
      },
      "source": [
        "**建立**"
      ]
    },
    {
      "cell_type": "code",
      "metadata": {
        "id": "WuuVlaIjfABp",
        "colab_type": "code",
        "colab": {}
      },
      "source": [
        "import tensorflow as tf\n",
        "\n",
        "import matplotlib as mpl\n",
        "import matplotlib.pyplot as plt\n",
        "\n",
        "mpl.rcParams['figure.figsize'] = (8, 6)\n"
      ],
      "execution_count": null,
      "outputs": []
    },
    {
      "cell_type": "markdown",
      "metadata": {
        "id": "6BsjKxtzfIPR",
        "colab_type": "text"
      },
      "source": [
        "**控制梯度记录**"
      ]
    },
    {
      "cell_type": "markdown",
      "metadata": {
        "id": "pZk4RQ5tfX6y",
        "colab_type": "text"
      },
      "source": [
        "在本指南中，你将学会在进行梯度计算时，如何控制tape所监视的变量和张量。\n",
        "如果你想停止记录梯度的话，你可以用GradientTape.stop_recording() 去暂停记录。\n",
        "如果你不想在模型中区分复杂的操作，这方法可能会帮到你。它还可以计算指标或中间结果："
      ]
    },
    {
      "cell_type": "code",
      "metadata": {
        "id": "ad3G0ePMf74q",
        "colab_type": "code",
        "colab": {}
      },
      "source": [
        "x = tf.Variable(2.0)\n",
        "y = tf.Variable(3.0)\n",
        "\n",
        "with tf.GradientTape() as t:\n",
        "  x_sq = x * x\n",
        "  with t.stop_recording():\n",
        "    y_sq = y * y\n",
        "  z = x_sq + y_sq\n",
        "\n",
        "grad = t.gradient(z, {'x': x, 'y': y})\n",
        "\n",
        "print('dz/dx:', grad['x'])  # 2*x => 4\n",
        "print('dz/dy:', grad['y'])\n"
      ],
      "execution_count": null,
      "outputs": []
    },
    {
      "cell_type": "code",
      "metadata": {
        "id": "-C_ifFbOgLVK",
        "colab_type": "code",
        "colab": {}
      },
      "source": [
        "dz/dx: tf.Tensor(4.0, shape=(), dtype=float32)\n",
        "dz/dy: None"
      ],
      "execution_count": null,
      "outputs": []
    },
    {
      "cell_type": "markdown",
      "metadata": {
        "id": "6pNLU1_kgQ0B",
        "colab_type": "text"
      },
      "source": [
        "如果你希望全部重新开始，请使用reset（）。通常，退出tape区域并重新开始会更容易阅读，但是当退出十分困难或根本不可能时，可以使用reset。"
      ]
    },
    {
      "cell_type": "code",
      "metadata": {
        "id": "5qztAexsg_CI",
        "colab_type": "code",
        "colab": {}
      },
      "source": [
        "x = tf.Variable(2.0)\n",
        "y = tf.Variable(3.0)\n",
        "reset = True\n",
        "\n",
        "with tf.GradientTape() as t:\n",
        "  y_sq = y * y\n",
        "  if reset:\n",
        "    # Throw out all the tape recorded so far\n",
        "    t.reset()\n",
        "  z = x * x + y_sq\n",
        "\n",
        "grad = t.gradient(z, {'x': x, 'y': y})\n",
        "\n",
        "print('dz/dx:', grad['x'])  # 2*x => 4\n",
        "print('dz/dy:', grad['y'])\n"
      ],
      "execution_count": null,
      "outputs": []
    },
    {
      "cell_type": "code",
      "metadata": {
        "id": "FJjam9IlhBsb",
        "colab_type": "code",
        "colab": {}
      },
      "source": [
        "dz/dx: tf.Tensor(4.0, shape=(), dtype=float32)\n",
        "dz/dy: None"
      ],
      "execution_count": null,
      "outputs": []
    },
    {
      "cell_type": "markdown",
      "metadata": {
        "id": "v20rSy9JhEJr",
        "colab_type": "text"
      },
      "source": [
        "**停止梯度**"
      ]
    },
    {
      "cell_type": "markdown",
      "metadata": {
        "id": "UVVkB6lKhHVp",
        "colab_type": "text"
      },
      "source": [
        "与上面对全局tape的控制不同，tf.stop_gradient函数要精确许多，它可阻止梯度沿特定的路径流动，而且无需访问tape本身："
      ]
    },
    {
      "cell_type": "code",
      "metadata": {
        "id": "lU7wZYYEhq6Z",
        "colab_type": "code",
        "colab": {}
      },
      "source": [
        "x = tf.Variable(2.0)\n",
        "y = tf.Variable(3.0)\n",
        "\n",
        "with tf.GradientTape() as t:\n",
        "  y_sq = y**2\n",
        "  z = x**2 + tf.stop_gradient(y_sq)\n",
        "\n",
        "grad = t.gradient(z, {'x': x, 'y': y})\n",
        "\n",
        "print('dz/dx:', grad['x'])  # 2*x => 4\n",
        "print('dz/dy:', grad['y'])\n"
      ],
      "execution_count": null,
      "outputs": []
    },
    {
      "cell_type": "code",
      "metadata": {
        "id": "vqVGpUIIhtqy",
        "colab_type": "code",
        "colab": {}
      },
      "source": [
        "dz/dx: tf.Tensor(4.0, shape=(), dtype=float32)\n",
        "dz/dy: None\n"
      ],
      "execution_count": null,
      "outputs": []
    },
    {
      "cell_type": "markdown",
      "metadata": {
        "id": "nf8V52AChwhM",
        "colab_type": "text"
      },
      "source": [
        "**自定义梯度**"
      ]
    },
    {
      "cell_type": "markdown",
      "metadata": {
        "id": "J60ik6BRiTOy",
        "colab_type": "text"
      },
      "source": [
        "在某些情况下，您可能需要精确控制梯度的计算方式，而不是使用默认值。这些情况包括："
      ]
    },
    {
      "cell_type": "markdown",
      "metadata": {
        "id": "0VLJDfkXidAx",
        "colab_type": "text"
      },
      "source": [
        "*   你正在编写的新操作没有定义梯度。\n",
        "*   默认计算在数值上不稳定。\n",
        "*   你希望在向前传播的过程中缓存一个开销很大的计算。\n",
        "*   你打算在不修改梯度的情况下修改某个值（例如使用：tf.clip_by_value, tf.math.round)。\n",
        "对于编写新的操作，可以使用tf.RegisterGradient 建立。详见该页。（请注意梯度注册表是全局的，因此请小心更改。）\n",
        "对于后三种情况，可以使用tf.custom_gradient.\n",
        "下面的例子将tf.clip_by_norm应用到中间梯度："
      ]
    },
    {
      "cell_type": "code",
      "metadata": {
        "id": "EPwtPgxsj04C",
        "colab_type": "code",
        "colab": {}
      },
      "source": [
        "# 建立恒等操作，但在梯度传播的过程中裁剪\n",
        "@tf.custom_gradient\n",
        "def clip_gradients(y):\n",
        "  def backward(dy):\n",
        "    return tf.clip_by_norm(dy, 0.5)\n",
        "  return y, backward\n",
        "\n",
        "v = tf.Variable(2.0)\n",
        "with tf.GradientTape() as t:\n",
        "  output = clip_gradients(v * v)\n",
        "print(t.gradient(output, v))  # 调用backward方法，将4裁剪为2\n",
        "\n"
      ],
      "execution_count": null,
      "outputs": []
    },
    {
      "cell_type": "code",
      "metadata": {
        "id": "oy7WzuRRkarx",
        "colab_type": "code",
        "colab": {}
      },
      "source": [
        "tf.Tensor(2.0, shape=(), dtype=float32)"
      ],
      "execution_count": null,
      "outputs": []
    },
    {
      "cell_type": "markdown",
      "metadata": {
        "id": "YM9pz6O6kcxc",
        "colab_type": "text"
      },
      "source": [
        "详见见tf.custom_gradient以查看更多细节。"
      ]
    },
    {
      "cell_type": "markdown",
      "metadata": {
        "id": "VnGSOgqtkhq9",
        "colab_type": "text"
      },
      "source": [
        "**多重tape**"
      ]
    },
    {
      "cell_type": "markdown",
      "metadata": {
        "id": "plzELHImklJz",
        "colab_type": "text"
      },
      "source": [
        "多个tape可以相互交互，例如，这里每个tape监视不同的张量集："
      ]
    },
    {
      "cell_type": "code",
      "metadata": {
        "id": "4okpgCh7kwEB",
        "colab_type": "code",
        "colab": {}
      },
      "source": [
        "x0 = tf.constant(0.0)\n",
        "x1 = tf.constant(0.0)\n",
        "\n",
        "with tf.GradientTape() as tape0, tf.GradientTape() as tape1:\n",
        "  tape0.watch(x0)\n",
        "  tape1.watch(x1)\n",
        "\n",
        "  y0 = tf.math.sin(x0)\n",
        "  y1 = tf.nn.sigmoid(x1)\n",
        "\n",
        "  y = y0 + y1\n",
        "\n",
        "  ys = tf.reduce_sum(y)\n"
      ],
      "execution_count": null,
      "outputs": []
    },
    {
      "cell_type": "code",
      "metadata": {
        "id": "mWzDZUWYkyJ6",
        "colab_type": "code",
        "colab": {}
      },
      "source": [
        "tape0.gradient(ys, x0).numpy()   # cos(x) => 1.0"
      ],
      "execution_count": null,
      "outputs": []
    },
    {
      "cell_type": "code",
      "metadata": {
        "id": "rnqzw3nZkzsa",
        "colab_type": "code",
        "colab": {}
      },
      "source": [
        "1.0"
      ],
      "execution_count": null,
      "outputs": []
    },
    {
      "cell_type": "code",
      "metadata": {
        "id": "0JHuZLo8k3lR",
        "colab_type": "code",
        "colab": {}
      },
      "source": [
        "0.25"
      ],
      "execution_count": null,
      "outputs": []
    },
    {
      "cell_type": "markdown",
      "metadata": {
        "id": "wZnksLjulOj6",
        "colab_type": "text"
      },
      "source": [
        "**高阶梯度**"
      ]
    },
    {
      "cell_type": "markdown",
      "metadata": {
        "id": "qLKGIdMZlWPr",
        "colab_type": "text"
      },
      "source": [
        "为了达到自动区分的目的，我们可以记录GradientTape上下文管理器中的操作。如果在文中计算梯度，那么梯度的计算值也会被记录下来。因此，同样的接口也适用于高阶梯度。例如："
      ]
    },
    {
      "cell_type": "code",
      "metadata": {
        "id": "aEiPf_95nI8x",
        "colab_type": "code",
        "colab": {}
      },
      "source": [
        "x = tf.Variable(1.0)  # Create a Tensorflow variable initialized to 1.0\n",
        "\n",
        "with tf.GradientTape() as t2:\n",
        "  with tf.GradientTape() as t1:\n",
        "    y = x * x * x\n",
        "\n",
        "  # 在外部的“t2”中计算渐变\n",
        "  # 这意味着梯度计算也是可微的\n",
        "  dy_dx = t1.gradient(y, x)\n",
        "d2y_dx2 = t2.gradient(dy_dx, x)\n",
        "\n",
        "print('dy_dx:', dy_dx.numpy())  # 3 * x**2 => 3.0\n",
        "print('d2y_dx2:', d2y_dx2.numpy())  # 6 * x => 6.0\n"
      ],
      "execution_count": null,
      "outputs": []
    },
    {
      "cell_type": "markdown",
      "metadata": {
        "id": "mwu4obYknEbb",
        "colab_type": "text"
      },
      "source": [
        "虽然这确实为你提供了标量函数的二阶导数，但是由于GradientTape.gradient仅计算标量的梯度，因此该模式不能推广生成海森矩阵。要构造海森矩阵，请参见“ 雅可比”部分下的海森矩阵示例 。 \n",
        "在用梯度计算标量时，“嵌套着调用GradientTape.gradient ”是一个很好的方法，然后所得的标量将用作第二个梯度计算的源，如以下示例所示"
      ]
    },
    {
      "cell_type": "markdown",
      "metadata": {
        "id": "o1TB-MImndLR",
        "colab_type": "text"
      },
      "source": [
        "**示例：输入梯度正则化**"
      ]
    },
    {
      "cell_type": "markdown",
      "metadata": {
        "id": "ng1DsjX3nghq",
        "colab_type": "text"
      },
      "source": [
        "许多模型容易受到“对抗性例子”的影响。这套技术修改了模型的输入，以打乱模型的输出。 最简单的方法是沿着输出相对于输入的梯度前进一步。\n",
        "输入梯度正则化可提高对抗性示例鲁棒性 ，它试图使输入梯度最小化。如果输入梯度很小，那么输出的变化也应该很小。 \n",
        "以下是输入梯度正则化的简单步骤。方法是： "
      ]
    },
    {
      "cell_type": "markdown",
      "metadata": {
        "id": "X3zqFuHnn29K",
        "colab_type": "text"
      },
      "source": [
        "1.   使用内部的tape计算输出相对于输入的梯度。 \n",
        "2.   计算该输入梯度的大小。 \n",
        "3.   计算出相对于模型的梯度。 "
      ]
    },
    {
      "cell_type": "code",
      "metadata": {
        "id": "IlokU_pJopFa",
        "colab_type": "code",
        "colab": {}
      },
      "source": [
        "x = tf.random.normal([7, 5])\n",
        "\n",
        "layer = tf.keras.layers.Dense(10, activation=tf.nn.relu)\n"
      ],
      "execution_count": null,
      "outputs": []
    },
    {
      "cell_type": "code",
      "metadata": {
        "id": "P3Pqy4w5oqM-",
        "colab_type": "code",
        "colab": {}
      },
      "source": [
        "with tf.GradientTape() as t2:\n",
        "  # 内部tape只考虑输入的梯度,\n",
        "  # 而非变量.\n",
        "  with tf.GradientTape(watch_accessed_variables=False) as t1:\n",
        "    t1.watch(x)\n",
        "    y = layer(x)\n",
        "    out = tf.reduce_sum(layer(x)**2)\n",
        "  # 1. 计算输入梯度.\n",
        "  g1 = t1.gradient(out, x)\n",
        "  # 2. 计算输入梯度的大小.\n",
        "  g1_mag = tf.norm(g1)\n",
        "\n",
        "# 3. 计算相对于模型的梯度\n",
        "dg1_mag = t2.gradient(g1_mag, layer.trainable_variables)\n"
      ],
      "execution_count": null,
      "outputs": []
    },
    {
      "cell_type": "code",
      "metadata": {
        "id": "sA7jvY8TorxC",
        "colab_type": "code",
        "colab": {}
      },
      "source": [
        "[var.shape for var in dg1_mag]"
      ],
      "execution_count": null,
      "outputs": []
    },
    {
      "cell_type": "code",
      "metadata": {
        "id": "etdVmpWPot-J",
        "colab_type": "code",
        "colab": {}
      },
      "source": [
        "[TensorShape([5, 10]), TensorShape([10])]"
      ],
      "execution_count": null,
      "outputs": []
    },
    {
      "cell_type": "markdown",
      "metadata": {
        "id": "uHcSLM7mov-O",
        "colab_type": "text"
      },
      "source": [
        "**雅可比**"
      ]
    },
    {
      "cell_type": "markdown",
      "metadata": {
        "id": "cq-P6sNNozki",
        "colab_type": "text"
      },
      "source": [
        "前面所有的例子都采用标量相对于某个源张量的梯度。雅可比矩阵表示向量值函数的梯度。每行包含一个向量元素的梯度。"
      ]
    },
    {
      "cell_type": "markdown",
      "metadata": {
        "id": "QyWWEKHnpJ7b",
        "colab_type": "text"
      },
      "source": [
        "GradientTape.jacobian方法可帮你高效地计算雅可比矩阵。"
      ]
    },
    {
      "cell_type": "markdown",
      "metadata": {
        "id": "o5_bFJrbpKha",
        "colab_type": "text"
      },
      "source": [
        "请注意："
      ]
    },
    {
      "cell_type": "markdown",
      "metadata": {
        "id": "-wy3K1O-pL-1",
        "colab_type": "text"
      },
      "source": [
        "*   像梯度一样： sources参数可以是张量或张量容器。 \n",
        "*   与梯度不同： target张量必须是单个张量。"
      ]
    },
    {
      "cell_type": "markdown",
      "metadata": {
        "id": "IrgoE112pejT",
        "colab_type": "text"
      },
      "source": [
        "**标量源**"
      ]
    },
    {
      "cell_type": "markdown",
      "metadata": {
        "id": "_Bg5s8IOpfXq",
        "colab_type": "text"
      },
      "source": [
        "作为第一个例子，这是矢量-目标相对于标量-源的雅可比行列式。"
      ]
    },
    {
      "cell_type": "code",
      "metadata": {
        "id": "Z4r1Dmh5ptnr",
        "colab_type": "code",
        "colab": {}
      },
      "source": [
        "x = tf.linspace(-10.0, 10.0, 200+1)\n",
        "delta = tf.Variable(0.0)\n",
        "\n",
        "with tf.GradientTape() as tape:\n",
        "  y = tf.nn.sigmoid(x+delta)\n",
        "\n",
        "dy_dx = tape.jacobian(y, delta)"
      ],
      "execution_count": null,
      "outputs": []
    },
    {
      "cell_type": "markdown",
      "metadata": {
        "id": "PYKEf4NkqKkz",
        "colab_type": "text"
      },
      "source": [
        "当对标量取雅可比时，结果就是目标的形状，并给出每个元素相对于源的梯度："
      ]
    },
    {
      "cell_type": "code",
      "metadata": {
        "id": "fqZU4p1lqPNx",
        "colab_type": "code",
        "colab": {}
      },
      "source": [
        "print(y.shape)\n",
        "print(dy_dx.shape)"
      ],
      "execution_count": null,
      "outputs": []
    },
    {
      "cell_type": "code",
      "metadata": {
        "id": "vKcOQEWjqSwD",
        "colab_type": "code",
        "colab": {}
      },
      "source": [
        "(201,)\n",
        "(201,)"
      ],
      "execution_count": null,
      "outputs": []
    },
    {
      "cell_type": "code",
      "metadata": {
        "id": "9CDIceJAqTjj",
        "colab_type": "code",
        "colab": {}
      },
      "source": [
        "plt.plot(x.numpy(), y, label='y')\n",
        "plt.plot(x.numpy(), dy_dx, label='dy/dx')\n",
        "plt.legend()\n",
        "_ = plt.xlabel('x')"
      ],
      "execution_count": null,
      "outputs": []
    },
    {
      "cell_type": "markdown",
      "metadata": {
        "id": "fgYKldI1qZHF",
        "colab_type": "text"
      },
      "source": [
        "![output_siNZaklc0_-e_0.png](data:image/png;base64,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)"
      ]
    },
    {
      "cell_type": "markdown",
      "metadata": {
        "id": "75ZoMZQ5qdKs",
        "colab_type": "text"
      },
      "source": [
        "**张量源**"
      ]
    },
    {
      "cell_type": "markdown",
      "metadata": {
        "id": "f6z4XriLqh37",
        "colab_type": "text"
      },
      "source": [
        "无论输入是标量还是张量， GradientTape.jacobian都能有效地计算源中每个元素相对于目标中每个元素的梯度。"
      ]
    },
    {
      "cell_type": "markdown",
      "metadata": {
        "id": "PEJ60CYvql9R",
        "colab_type": "text"
      },
      "source": [
        "例如，该层的输出的形状为(10,7)："
      ]
    },
    {
      "cell_type": "code",
      "metadata": {
        "id": "FOIxU3nlqutq",
        "colab_type": "code",
        "colab": {}
      },
      "source": [
        "x = tf.random.normal([7, 5])\n",
        "layer = tf.keras.layers.Dense(10, activation=tf.nn.relu)\n",
        "\n",
        "with tf.GradientTape(persistent=True) as tape:\n",
        "  y = layer(x)\n",
        "\n",
        "y.shape"
      ],
      "execution_count": null,
      "outputs": []
    },
    {
      "cell_type": "code",
      "metadata": {
        "id": "noqkmH_lqxHC",
        "colab_type": "code",
        "colab": {}
      },
      "source": [
        "TensorShape([7, 10])"
      ],
      "execution_count": null,
      "outputs": []
    },
    {
      "cell_type": "markdown",
      "metadata": {
        "id": "goKmZ7C7q7lr",
        "colab_type": "text"
      },
      "source": [
        "层的内核形状为(5,10)："
      ]
    },
    {
      "cell_type": "code",
      "metadata": {
        "id": "UzQUb7_zrAh7",
        "colab_type": "code",
        "colab": {}
      },
      "source": [
        "layer.kernel.shape"
      ],
      "execution_count": null,
      "outputs": []
    },
    {
      "cell_type": "code",
      "metadata": {
        "id": "9BAjgWiJrE4M",
        "colab_type": "code",
        "colab": {}
      },
      "source": [
        "TensorShape([5, 10])"
      ],
      "execution_count": null,
      "outputs": []
    },
    {
      "cell_type": "markdown",
      "metadata": {
        "id": "mEkU8TPfrXqz",
        "colab_type": "text"
      },
      "source": [
        "输出相对于内核的雅可比行列式的形状是这两个形状连接在一起后的形状："
      ]
    },
    {
      "cell_type": "code",
      "metadata": {
        "id": "kE-dWBPUrejJ",
        "colab_type": "code",
        "colab": {}
      },
      "source": [
        "j = tape.jacobian(y, layer.kernel)\n",
        "j.shape"
      ],
      "execution_count": null,
      "outputs": []
    },
    {
      "cell_type": "code",
      "metadata": {
        "id": "AJhx_tsyrgbE",
        "colab_type": "code",
        "colab": {}
      },
      "source": [
        "TensorShape([7, 10, 5, 10])"
      ],
      "execution_count": null,
      "outputs": []
    },
    {
      "cell_type": "markdown",
      "metadata": {
        "id": "YMyjPKYPrmvK",
        "colab_type": "text"
      },
      "source": [
        "如果对目标维度进行求和，则和的梯度是可通过GradientTape.gradient计算得出的："
      ]
    },
    {
      "cell_type": "code",
      "metadata": {
        "id": "Mm1P9kpnrxJt",
        "colab_type": "code",
        "colab": {}
      },
      "source": [
        "g = tape.gradient(y, layer.kernel)\n",
        "print('g.shape:', g.shape)\n",
        "\n",
        "j_sum = tf.reduce_sum(j, axis=[0, 1])\n",
        "delta = tf.reduce_max(abs(g - j_sum)).numpy()\n",
        "assert delta < 1e-3\n",
        "print('delta:', delta)"
      ],
      "execution_count": null,
      "outputs": []
    },
    {
      "cell_type": "code",
      "metadata": {
        "id": "crI9ZAyAr0eS",
        "colab_type": "code",
        "colab": {}
      },
      "source": [
        "g.shape: (5, 10)\n",
        "delta: 4.7683716e-07"
      ],
      "execution_count": null,
      "outputs": []
    },
    {
      "cell_type": "markdown",
      "metadata": {
        "id": "9O0rZFMXr-ed",
        "colab_type": "text"
      },
      "source": [
        "**例子：海森矩阵**"
      ]
    },
    {
      "cell_type": "markdown",
      "metadata": {
        "id": "Lg5odX9xr_Vq",
        "colab_type": "text"
      },
      "source": [
        "尽管tf.GradientTape没有提供用于构造海森矩阵的显式方法，但可以使用GradientTape.jacobian方法来构建矩阵。"
      ]
    },
    {
      "cell_type": "markdown",
      "metadata": {
        "id": "6IdtL_FrsELa",
        "colab_type": "text"
      },
      "source": [
        "注意： 海森矩阵包含N**2参数。由于一些原因，对于大多数模型来说，这是不可能的。本例的更多内容是关于如何使用GradientTape.jacobian方法的说明，而不是对直接基于Hessian优化的解释。使用嵌套tape可有效地计算海森矩阵向量乘积，这个方法可有效的用于二阶优化。"
      ]
    },
    {
      "cell_type": "code",
      "metadata": {
        "id": "yockTtkqsN6K",
        "colab_type": "code",
        "colab": {}
      },
      "source": [
        "x = tf.random.normal([7, 5])\n",
        "layer1 = tf.keras.layers.Dense(8, activation=tf.nn.relu)\n",
        "layer2 = tf.keras.layers.Dense(6, activation=tf.nn.relu)\n",
        "\n",
        "with tf.GradientTape() as t2:\n",
        "  with tf.GradientTape() as t1:\n",
        "    x = layer1(x)\n",
        "    x = layer2(x)\n",
        "    loss = tf.reduce_mean(x**2)\n",
        "\n",
        "  g = t1.gradient(loss, layer1.kernel)\n",
        "\n",
        "h = t2.jacobian(g, layer1.kernel)"
      ],
      "execution_count": null,
      "outputs": []
    },
    {
      "cell_type": "code",
      "metadata": {
        "id": "_y2-b59asQBj",
        "colab_type": "code",
        "colab": {}
      },
      "source": [
        "print(f'layer.kernel.shape: {layer1.kernel.shape}')\n",
        "print(f'h.shape: {h.shape}')"
      ],
      "execution_count": null,
      "outputs": []
    },
    {
      "cell_type": "code",
      "metadata": {
        "id": "byA5UkiMsRrr",
        "colab_type": "code",
        "colab": {}
      },
      "source": [
        "layer.kernel.shape: (5, 8)\n",
        "h.shape: (5, 8, 5, 8)"
      ],
      "execution_count": null,
      "outputs": []
    },
    {
      "cell_type": "markdown",
      "metadata": {
        "id": "ojcZprUesUrD",
        "colab_type": "text"
      },
      "source": [
        "要将此海森矩阵用于牛顿方法，你首先需要将其轴展平为矩阵，然后将梯度展平为向量："
      ]
    },
    {
      "cell_type": "code",
      "metadata": {
        "id": "9yDIlKh8saLT",
        "colab_type": "code",
        "colab": {}
      },
      "source": [
        "n_params = tf.reduce_prod(layer1.kernel.shape)\n",
        "g_vec = tf.reshape(g, [n_params, 1])\n",
        "h_mat = tf.reshape(h, [n_params, n_params])"
      ],
      "execution_count": null,
      "outputs": []
    },
    {
      "cell_type": "markdown",
      "metadata": {
        "id": "YEeVmiJDs0nC",
        "colab_type": "text"
      },
      "source": [
        "海森矩阵应该是对称的："
      ]
    },
    {
      "cell_type": "code",
      "metadata": {
        "id": "rzs_hNcTsz0O",
        "colab_type": "code",
        "colab": {}
      },
      "source": [
        "def imshow_zero_center(image, **kwargs):\n",
        "  lim = tf.reduce_max(abs(image))\n",
        "  plt.imshow(image, vmin=-lim, vmax=lim, cmap='seismic', **kwargs)\n",
        "  plt.colorbar()\n"
      ],
      "execution_count": null,
      "outputs": []
    },
    {
      "cell_type": "code",
      "metadata": {
        "id": "8Ax3CN7fsthZ",
        "colab_type": "code",
        "colab": {}
      },
      "source": [
        "imshow_zero_center(h_mat)"
      ],
      "execution_count": null,
      "outputs": []
    },
    {
      "cell_type": "markdown",
      "metadata": {
        "id": "3kWOyjwvsg-i",
        "colab_type": "text"
      },
      "source": [
        "![图片.png](data:image/png;base64,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)"
      ]
    },
    {
      "cell_type": "markdown",
      "metadata": {
        "id": "DcsjfgPEssA8",
        "colab_type": "text"
      },
      "source": [
        "牛顿的方法更新步骤如下所示。"
      ]
    },
    {
      "cell_type": "code",
      "metadata": {
        "id": "ID5nZoWdtBHj",
        "colab_type": "code",
        "colab": {}
      },
      "source": [
        "eps = 1e-3\n",
        "eye_eps = tf.eye(h_mat.shape[0])*eps"
      ],
      "execution_count": null,
      "outputs": []
    },
    {
      "cell_type": "markdown",
      "metadata": {
        "id": "DVNRBwUctGv7",
        "colab_type": "text"
      },
      "source": [
        "注意： 不要转置矩阵 。"
      ]
    },
    {
      "cell_type": "code",
      "metadata": {
        "id": "bHMLs5hRtKmU",
        "colab_type": "code",
        "colab": {}
      },
      "source": [
        "# X(k+1) = X(k) - (∇²f(X(k)))^-1 @ ∇f(X(k))\n",
        "# h_mat = ∇²f(X(k))\n",
        "# g_vec = ∇f(X(k))\n",
        "update = tf.linalg.solve(h_mat + eye_eps, g_vec)\n",
        "\n",
        "# 重塑更新并将其应用于变量。\n",
        "_ = layer1.kernel.assign_sub(tf.reshape(update, layer1.kernel.shape))"
      ],
      "execution_count": null,
      "outputs": []
    },
    {
      "cell_type": "markdown",
      "metadata": {
        "id": "nSNKspAYtM08",
        "colab_type": "text"
      },
      "source": [
        "尽管对于单个tf.Variable而言这相对简单，但将其应用于非平凡模型将需要仔细级联和切片，以在多个变量之间产生完整的海森矩阵。"
      ]
    },
    {
      "cell_type": "markdown",
      "metadata": {
        "id": "Z8EApQMqtZRs",
        "colab_type": "text"
      },
      "source": [
        "**批量雅可比**"
      ]
    },
    {
      "cell_type": "markdown",
      "metadata": {
        "id": "_GP9Vpp5tb8r",
        "colab_type": "text"
      },
      "source": [
        "在某些情况下，你想要获取目标堆栈相对于源堆栈的雅可比行列式，其中每个目标-源堆栈对的雅可比行列式都是独立的。 "
      ]
    },
    {
      "cell_type": "markdown",
      "metadata": {
        "id": "xL9_71vJtnyj",
        "colab_type": "text"
      },
      "source": [
        "例如，此处输入x的形状为(batch, ins) ，而输出y形状为(batch, outs) 。"
      ]
    },
    {
      "cell_type": "code",
      "metadata": {
        "id": "ibu7C-H0trx7",
        "colab_type": "code",
        "colab": {}
      },
      "source": [
        "x = tf.random.normal([7, 5])\n",
        "\n",
        "layer1 = tf.keras.layers.Dense(8, activation=tf.nn.elu)\n",
        "layer2 = tf.keras.layers.Dense(6, activation=tf.nn.elu)\n",
        "\n",
        "with tf.GradientTape(persistent=True, watch_accessed_variables=False) as tape:\n",
        "  tape.watch(x)\n",
        "  y = layer1(x)\n",
        "  y = layer2(y)\n",
        "\n",
        "y.shape"
      ],
      "execution_count": null,
      "outputs": []
    },
    {
      "cell_type": "code",
      "metadata": {
        "id": "O8rjZcPRtubE",
        "colab_type": "code",
        "colab": {}
      },
      "source": [
        "TensorShape([7, 6])"
      ],
      "execution_count": null,
      "outputs": []
    },
    {
      "cell_type": "markdown",
      "metadata": {
        "id": "uCE2ug74twxU",
        "colab_type": "text"
      },
      "source": [
        "虽然您只想要（batch，ins，outs），可y相对于x的完整雅可比矩阵的形状是（batch，ins，batch，outs）。"
      ]
    },
    {
      "cell_type": "code",
      "metadata": {
        "id": "YNiiSWd6t_mT",
        "colab_type": "code",
        "colab": {}
      },
      "source": [
        "j = tape.jacobian(y, x)\n",
        "j.shape"
      ],
      "execution_count": null,
      "outputs": []
    },
    {
      "cell_type": "code",
      "metadata": {
        "id": "AIx1KMyTuCxs",
        "colab_type": "code",
        "colab": {}
      },
      "source": [
        "TensorShape([7, 6, 7, 5])"
      ],
      "execution_count": null,
      "outputs": []
    },
    {
      "cell_type": "markdown",
      "metadata": {
        "id": "JloJie-MuIwD",
        "colab_type": "text"
      },
      "source": [
        "如果堆栈中每个项的梯度都是独立的，则该张量的每个(batch, batch)切片都是对角矩阵："
      ]
    },
    {
      "cell_type": "code",
      "metadata": {
        "id": "JBr5nx-PuKCE",
        "colab_type": "code",
        "colab": {}
      },
      "source": [
        "imshow_zero_center(j[:, 0, :, 0])\n",
        "_ = plt.title('A (batch, batch) slice')"
      ],
      "execution_count": null,
      "outputs": []
    },
    {
      "cell_type": "markdown",
      "metadata": {
        "id": "ryjzdewnuMmy",
        "colab_type": "text"
      },
      "source": [
        "![图片.png](data:image/png;base64,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)"
      ]
    },
    {
      "cell_type": "code",
      "metadata": {
        "id": "VPMLLp-xuPyq",
        "colab_type": "code",
        "colab": {}
      },
      "source": [
        "def plot_as_patches(j):\n",
        "  # 重新排列轴，使对角线每个都形成一个连续的面片。\n",
        "  j = tf.transpose(j, [1, 0, 3, 2])\n",
        "  # 在每个补丁之间填充。\n",
        "  lim = tf.reduce_max(abs(j))\n",
        "  j = tf.pad(j, [[0, 0], [1, 1], [0, 0], [1, 1]],\n",
        "             constant_values=-lim)\n",
        "  # R形成一个单一的形象.\n",
        "  s = j.shape\n",
        "  j = tf.reshape(j, [s[0]*s[1], s[2]*s[3]])\n",
        "  imshow_zero_center(j, extent=[-0.5, s[2]-0.5, s[0]-0.5, -0.5])\n",
        "\n",
        "plot_as_patches(j)\n",
        "_ = plt.title('All (batch, batch) slices are diagonal')\n"
      ],
      "execution_count": null,
      "outputs": []
    },
    {
      "cell_type": "markdown",
      "metadata": {
        "id": "WTKMx6-4uceV",
        "colab_type": "text"
      },
      "source": [
        "![图片.png](data:image/png;base64,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)"
      ]
    },
    {
      "cell_type": "markdown",
      "metadata": {
        "id": "0mYDJsz-udDj",
        "colab_type": "text"
      },
      "source": [
        "要获得所需的结果，可以对重复的批处理维度求和，或者使用tf.einsum选择对角线。"
      ]
    },
    {
      "cell_type": "code",
      "metadata": {
        "id": "AHW-ar9Qujqs",
        "colab_type": "code",
        "colab": {}
      },
      "source": [
        "j_sum = tf.reduce_sum(j, axis=2)\n",
        "print(j_sum.shape)\n",
        "j_select = tf.einsum('bxby->bxy', j)\n",
        "print(j_select.shape)"
      ],
      "execution_count": null,
      "outputs": []
    },
    {
      "cell_type": "code",
      "metadata": {
        "id": "a42rxTPkuk_E",
        "colab_type": "code",
        "colab": {}
      },
      "source": [
        "(7, 6, 5)\n",
        "(7, 6, 5)"
      ],
      "execution_count": null,
      "outputs": []
    },
    {
      "cell_type": "markdown",
      "metadata": {
        "id": "bNNcsP4WuqrK",
        "colab_type": "text"
      },
      "source": [
        "在没有额外维度的情况下进行计算会更加高效。 GradientTape.batch_jacobian方法可以做到这一点。"
      ]
    },
    {
      "cell_type": "code",
      "metadata": {
        "id": "EGujGo9mut3E",
        "colab_type": "code",
        "colab": {}
      },
      "source": [
        "jb = tape.batch_jacobian(y, x)\n",
        "jb.shape"
      ],
      "execution_count": null,
      "outputs": []
    },
    {
      "cell_type": "code",
      "metadata": {
        "id": "LMygCBzZuvED",
        "colab_type": "code",
        "colab": {}
      },
      "source": [
        "TensorShape([7, 6, 5])"
      ],
      "execution_count": null,
      "outputs": []
    },
    {
      "cell_type": "code",
      "metadata": {
        "id": "1JnHCpFnuwpz",
        "colab_type": "code",
        "colab": {}
      },
      "source": [
        "error = tf.reduce_max(abs(jb - j_sum))\n",
        "assert error < 1e-3\n",
        "print(error.numpy())"
      ],
      "execution_count": null,
      "outputs": []
    },
    {
      "cell_type": "code",
      "metadata": {
        "id": "cQfQeCA4uyXL",
        "colab_type": "code",
        "colab": {}
      },
      "source": [
        "0.0"
      ],
      "execution_count": null,
      "outputs": []
    },
    {
      "cell_type": "markdown",
      "metadata": {
        "id": "ILA6JEEiu7Cq",
        "colab_type": "text"
      },
      "source": [
        "警告： GradientTape.batch_jacobian仅验证源和目标的第一个维度是否匹配。它不检查梯度是否是独立的。用户需要确保他们每次使用batch_jacobian都有意义。例如添加一个layers.BatchNormalization破坏了独立性，因为它跨批次维度进行了规范化："
      ]
    },
    {
      "cell_type": "code",
      "metadata": {
        "id": "AEEMzlJWu9mj",
        "colab_type": "code",
        "colab": {}
      },
      "source": [
        "x = tf.random.normal([7, 5])\n",
        "\n",
        "layer1 = tf.keras.layers.Dense(8, activation=tf.nn.elu)\n",
        "bn = tf.keras.layers.BatchNormalization()\n",
        "layer2 = tf.keras.layers.Dense(6, activation=tf.nn.elu)\n",
        "\n",
        "with tf.GradientTape(persistent=True, watch_accessed_variables=False) as tape:\n",
        "  tape.watch(x)\n",
        "  y = layer1(x)\n",
        "  y = bn(y, training=True)\n",
        "  y = layer2(y)\n",
        "\n",
        "j = tape.jacobian(y, x)\n",
        "print(f'j.shape: {j.shape}')\n"
      ],
      "execution_count": null,
      "outputs": []
    },
    {
      "cell_type": "code",
      "metadata": {
        "id": "Y5LaV6GDvAiL",
        "colab_type": "code",
        "colab": {}
      },
      "source": [
        "j.shape: (7, 6, 7, 5)"
      ],
      "execution_count": null,
      "outputs": []
    },
    {
      "cell_type": "code",
      "metadata": {
        "id": "S0-AdKcqvCBr",
        "colab_type": "code",
        "colab": {}
      },
      "source": [
        "plot_as_patches(j)\n",
        "\n",
        "_ = plt.title('These slices are not diagonal')\n",
        "_ = plt.xlabel(\"Don't use `batch_jacobian`\")"
      ],
      "execution_count": null,
      "outputs": []
    },
    {
      "cell_type": "markdown",
      "metadata": {
        "id": "N_3D66xovFsS",
        "colab_type": "text"
      },
      "source": [
        "![图片.png](data:image/png;base64,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)"
      ]
    },
    {
      "cell_type": "markdown",
      "metadata": {
        "id": "20dQ47SzvGjS",
        "colab_type": "text"
      },
      "source": [
        "在本例中，batch_jacobian仍然可运行并返回具有预期形状的内容，但其内容的含义不明确。 "
      ]
    },
    {
      "cell_type": "code",
      "metadata": {
        "id": "Nfs7gRDjvLmh",
        "colab_type": "code",
        "colab": {}
      },
      "source": [
        "jb = tape.batch_jacobian(y, x)\n",
        "print(f'jb.shape: {jb.shape}')"
      ],
      "execution_count": null,
      "outputs": []
    },
    {
      "cell_type": "code",
      "metadata": {
        "id": "3dxoWEKYvOFc",
        "colab_type": "code",
        "colab": {}
      },
      "source": [
        "jb.shape: (7, 6, 5)"
      ],
      "execution_count": null,
      "outputs": []
    }
  ]
}