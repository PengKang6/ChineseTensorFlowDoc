{
 "cells": [
  {
   "cell_type": "markdown",
   "metadata": {},
   "source": [
    "# TensorFlow变量"
   ]
  },
  {
   "cell_type": "markdown",
   "metadata": {},
   "source": [
    "TensorFlow变量是表示被你的程序操作的、共享和可持久化的状态的最好方法。\n",
    "\n",
    "变量通过`tf.Variable`类来操作。`tf.Variable`表示它的值可以通过它上面运行操作改变的张量。具体操作包括读取和修改张量的值。高层`tf.keras`使用`tf.Variable`来保存模型参数。这部分介绍如何在TensorFlow中创建、更新和管理`tf.Variable`。"
   ]
  },
  {
   "cell_type": "markdown",
   "metadata": {},
   "source": [
    "## 创建变量"
   ]
  },
  {
   "cell_type": "markdown",
   "metadata": {},
   "source": [
    "创建变量并提供初始值："
   ]
  },
  {
   "cell_type": "code",
   "execution_count": null,
   "metadata": {},
   "outputs": [],
   "source": [
    "import tensorflow as tf\n",
    "\n",
    "my_variable = tf.Variable(tf.zeros([1, 2, 3]))"
   ]
  },
  {
   "cell_type": "markdown",
   "metadata": {},
   "source": [
    "这创建一个全0填充的形状为\\[1, 2, 3]的3维张量。没有指定类型，这个张量缺省类型dtype为`tf.float32`。若dtype没有指定，类型从张量初始值中推断。\n",
    "\n",
    "如果指定`tf.device`，变量将放在那个设备上，否则，变量将放到最快的和它类型兼容的设备上（这意味着大多数变量自动的放在GPU上，如果有GPU的话）。例如，下列代码创建一个名字为v的变量，并将它放到第二个GPU设备上："
   ]
  },
  {
   "cell_type": "code",
   "execution_count": null,
   "metadata": {},
   "outputs": [],
   "source": [
    "with tf.device(\"/device:GPU:1\"):\n",
    "  v = tf.Variable(tf.zeros([10, 10]))"
   ]
  },
  {
   "cell_type": "markdown",
   "metadata": {},
   "source": [
    "理想情况下，你应该使用`tf.distribute`API，那将允许你写一次代码，并让代码在不同的分布式设置中运行。"
   ]
  },
  {
   "cell_type": "markdown",
   "metadata": {},
   "source": [
    "## 使用变量"
   ]
  },
  {
   "cell_type": "markdown",
   "metadata": {},
   "source": [
    "要在TensorFlow图中使用`tf.Variable`的值，将它看作是一个一般的`tf.Tensor`:"
   ]
  },
  {
   "cell_type": "code",
   "execution_count": null,
   "metadata": {},
   "outputs": [],
   "source": [
    "v = tf.Variable(0.0)\n",
    "w = v + 1  # w是一个基于v的值计算得到的tf.Tensor\n",
    "           # 任何时候一个变量在一个表达式中使用，它将自动的转换成表示它的值的tf.Tensor\n",
    "print(w)"
   ]
  },
  {
   "cell_type": "markdown",
   "metadata": {},
   "source": [
    "为了访问一个变量的值，使用方法`tf.Variable`类中的方法`assign`, `assign_add`等. 下面是这些方法的调用:"
   ]
  },
  {
   "cell_type": "code",
   "execution_count": null,
   "metadata": {},
   "outputs": [],
   "source": [
    "v = tf.Variable(0.0)\n",
    "v.assign_add(1)"
   ]
  },
  {
   "cell_type": "markdown",
   "metadata": {},
   "source": [
    "多数TensorFlow优化器有优化的操作根据梯度下降一类的算法高效的更新变量的值。\n",
    "\n",
    "你可以显式的读取变量的当前值，使用`read_value`:"
   ]
  },
  {
   "cell_type": "code",
   "execution_count": null,
   "metadata": {},
   "outputs": [],
   "source": [
    "v = tf.Variable(0.0)\n",
    "v.assign_add(1)\n",
    "v.read_value()  # 1.0"
   ]
  },
  {
   "cell_type": "markdown",
   "metadata": {},
   "source": [
    "当`tf.Variable`的最后一个引用离开作用域范围，它的内存释放。"
   ]
  },
  {
   "cell_type": "markdown",
   "metadata": {},
   "source": [
    "## 跟踪变量"
   ]
  },
  {
   "cell_type": "markdown",
   "metadata": {},
   "source": [
    "TensorFlow变量是一个Python对象。当你构建你自己的层、模型、优化器和其他相关工具时，你可能需要获得一个模型中所有变量的列表。\n",
    "\n",
    "一个常见用例时实现`Layer`子类，Layer类递归的跟踪所有变量，并作为它的实例属性："
   ]
  },
  {
   "cell_type": "code",
   "execution_count": null,
   "metadata": {},
   "outputs": [],
   "source": [
    "class MyLayer(tf.keras.layers.Layer):\n",
    "\n",
    "  def __init__(self):\n",
    "    super(MyLayer, self).__init__()\n",
    "    self.my_var = tf.Variable(1.0)\n",
    "    self.my_var_list = [tf.Variable(x) for x in range(10)]\n",
    "\n",
    "class MyOtherLayer(tf.keras.layers.Layer):\n",
    "\n",
    "  def __init__(self):\n",
    "    super(MyOtherLayer, self).__init__()\n",
    "    self.sublayer = MyLayer()\n",
    "    self.my_other_var = tf.Variable(10.0)\n",
    "\n",
    "m = MyOtherLayer()\n",
    "print(len(m.variables))  # 12 (11个来自 MyLayer, 1个来自MyOtherLayer)"
   ]
  },
  {
   "cell_type": "markdown",
   "metadata": {},
   "source": [
    "如果你不是在开发一个新的层，TensorFlow也有一个一般的`tf.Module`基类，它只实现变量跟踪。`tf.Module`的实例有`variables`和`trainable_variables`属性，它们表示来自于模型的变量和可训练的变量。像Layer类一样，它通过遍历其他模块得到。"
   ]
  }
 ],
 "metadata": {
  "kernelspec": {
   "display_name": "tensorflow2",
   "language": "python",
   "name": "tensorflow2"
  },
  "language_info": {
   "codemirror_mode": {
    "name": "ipython",
    "version": 3
   },
   "file_extension": ".py",
   "mimetype": "text/x-python",
   "name": "python",
   "nbconvert_exporter": "python",
   "pygments_lexer": "ipython3",
   "version": "3.7.6"
  }
 },
 "nbformat": 4,
 "nbformat_minor": 4
}
